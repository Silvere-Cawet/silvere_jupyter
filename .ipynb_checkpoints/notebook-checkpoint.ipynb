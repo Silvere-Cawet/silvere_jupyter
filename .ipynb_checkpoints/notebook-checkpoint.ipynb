{
 "cells": [
  {
   "cell_type": "markdown",
   "id": "85630a7c-c326-48a2-a527-ef6fdca18a7a",
   "metadata": {},
   "source": [
    "## Dynamics of Instagram users\n",
    "**Author**: Silvere Cawet <br/>\n",
    "**Date**: 14 April 2023 <br/>\n",
    "**Source**: https://www.kaggle.com/datasets/iabdulw/dynamics-of-instagram-users <br/>\n",
    "**Github url**: something <br/>"
   ]
  },
  {
   "cell_type": "code",
   "execution_count": 1,
   "id": "40a1e326-708b-4477-b83f-a42fc2eef5e7",
   "metadata": {},
   "outputs": [],
   "source": [
    "import pandas as pd\n",
    "import numpy as np\n",
    "from scipy import stats\n",
    "from pandas.plotting import scatter_matrix\n",
    "import matplotlib as plt\n",
    "import seaborn as sbn\n",
    "\n",
    "data_file = r'data\\instagram_dataset.xlsx'\n",
    "\n",
    "df = pd.read_excel(data_file)"
   ]
  },
  {
   "cell_type": "markdown",
   "id": "05842ec4-ec53-44af-a022-91569be65455",
   "metadata": {},
   "source": [
    "### Data Sample"
   ]
  },
  {
   "cell_type": "code",
   "execution_count": 2,
   "id": "cbd4f090-9814-43c7-aabe-ae5a7147f63d",
   "metadata": {},
   "outputs": [
    {
     "data": {
      "text/html": [
       "<div>\n",
       "<style scoped>\n",
       "    .dataframe tbody tr th:only-of-type {\n",
       "        vertical-align: middle;\n",
       "    }\n",
       "\n",
       "    .dataframe tbody tr th {\n",
       "        vertical-align: top;\n",
       "    }\n",
       "\n",
       "    .dataframe thead th {\n",
       "        text-align: right;\n",
       "    }\n",
       "</style>\n",
       "<table border=\"1\" class=\"dataframe\">\n",
       "  <thead>\n",
       "    <tr style=\"text-align: right;\">\n",
       "      <th></th>\n",
       "      <th>Users</th>\n",
       "      <th>Number of Posts</th>\n",
       "      <th>Number of Followers</th>\n",
       "      <th>Number of Followings</th>\n",
       "      <th>Number of Likes for the Tenth Previous Post</th>\n",
       "      <th>Number of Likes for the Eleventh Previous Post</th>\n",
       "      <th>Number of Likes for the Twelfth Previous Post</th>\n",
       "      <th>Number of Self-Presenting Posts from Nine Previous Posts</th>\n",
       "      <th>Gender</th>\n",
       "    </tr>\n",
       "  </thead>\n",
       "  <tbody>\n",
       "    <tr>\n",
       "      <th>0</th>\n",
       "      <td>User-1</td>\n",
       "      <td>486</td>\n",
       "      <td>279</td>\n",
       "      <td>19</td>\n",
       "      <td>15</td>\n",
       "      <td>10</td>\n",
       "      <td>17</td>\n",
       "      <td>0</td>\n",
       "      <td>m</td>\n",
       "    </tr>\n",
       "    <tr>\n",
       "      <th>1</th>\n",
       "      <td>User-2</td>\n",
       "      <td>401</td>\n",
       "      <td>5509</td>\n",
       "      <td>342</td>\n",
       "      <td>360</td>\n",
       "      <td>440</td>\n",
       "      <td>428</td>\n",
       "      <td>0</td>\n",
       "      <td>f</td>\n",
       "    </tr>\n",
       "    <tr>\n",
       "      <th>2</th>\n",
       "      <td>User-3</td>\n",
       "      <td>463</td>\n",
       "      <td>453</td>\n",
       "      <td>293</td>\n",
       "      <td>65</td>\n",
       "      <td>68</td>\n",
       "      <td>149</td>\n",
       "      <td>4</td>\n",
       "      <td>f</td>\n",
       "    </tr>\n",
       "    <tr>\n",
       "      <th>3</th>\n",
       "      <td>User-4</td>\n",
       "      <td>154</td>\n",
       "      <td>1231</td>\n",
       "      <td>1477</td>\n",
       "      <td>53</td>\n",
       "      <td>22</td>\n",
       "      <td>35</td>\n",
       "      <td>3</td>\n",
       "      <td>m</td>\n",
       "    </tr>\n",
       "    <tr>\n",
       "      <th>4</th>\n",
       "      <td>User-5</td>\n",
       "      <td>786</td>\n",
       "      <td>9620</td>\n",
       "      <td>421</td>\n",
       "      <td>623</td>\n",
       "      <td>1299</td>\n",
       "      <td>544</td>\n",
       "      <td>0</td>\n",
       "      <td>m</td>\n",
       "    </tr>\n",
       "    <tr>\n",
       "      <th>5</th>\n",
       "      <td>User-6</td>\n",
       "      <td>490</td>\n",
       "      <td>7702</td>\n",
       "      <td>379</td>\n",
       "      <td>190</td>\n",
       "      <td>198</td>\n",
       "      <td>188</td>\n",
       "      <td>4</td>\n",
       "      <td>f</td>\n",
       "    </tr>\n",
       "    <tr>\n",
       "      <th>6</th>\n",
       "      <td>User-7</td>\n",
       "      <td>405</td>\n",
       "      <td>1282</td>\n",
       "      <td>370</td>\n",
       "      <td>123</td>\n",
       "      <td>135</td>\n",
       "      <td>145</td>\n",
       "      <td>2</td>\n",
       "      <td>m</td>\n",
       "    </tr>\n",
       "    <tr>\n",
       "      <th>7</th>\n",
       "      <td>User-8</td>\n",
       "      <td>638</td>\n",
       "      <td>2312</td>\n",
       "      <td>365</td>\n",
       "      <td>466</td>\n",
       "      <td>511</td>\n",
       "      <td>318</td>\n",
       "      <td>0</td>\n",
       "      <td>m</td>\n",
       "    </tr>\n",
       "    <tr>\n",
       "      <th>8</th>\n",
       "      <td>User-9</td>\n",
       "      <td>73</td>\n",
       "      <td>1819</td>\n",
       "      <td>852</td>\n",
       "      <td>343</td>\n",
       "      <td>435</td>\n",
       "      <td>333</td>\n",
       "      <td>0</td>\n",
       "      <td>f</td>\n",
       "    </tr>\n",
       "    <tr>\n",
       "      <th>9</th>\n",
       "      <td>User-10</td>\n",
       "      <td>600</td>\n",
       "      <td>2056</td>\n",
       "      <td>606</td>\n",
       "      <td>130</td>\n",
       "      <td>102</td>\n",
       "      <td>160</td>\n",
       "      <td>1</td>\n",
       "      <td>f</td>\n",
       "    </tr>\n",
       "  </tbody>\n",
       "</table>\n",
       "</div>"
      ],
      "text/plain": [
       "     Users  Number of Posts  Number of Followers  Number of Followings  \\\n",
       "0   User-1              486                  279                    19   \n",
       "1   User-2              401                 5509                   342   \n",
       "2   User-3              463                  453                   293   \n",
       "3   User-4              154                 1231                  1477   \n",
       "4   User-5              786                 9620                   421   \n",
       "5   User-6              490                 7702                   379   \n",
       "6   User-7              405                 1282                   370   \n",
       "7   User-8              638                 2312                   365   \n",
       "8   User-9               73                 1819                   852   \n",
       "9  User-10              600                 2056                   606   \n",
       "\n",
       "   Number of Likes for the Tenth Previous Post  \\\n",
       "0                                           15   \n",
       "1                                          360   \n",
       "2                                           65   \n",
       "3                                           53   \n",
       "4                                          623   \n",
       "5                                          190   \n",
       "6                                          123   \n",
       "7                                          466   \n",
       "8                                          343   \n",
       "9                                          130   \n",
       "\n",
       "   Number of Likes for the Eleventh Previous Post  \\\n",
       "0                                              10   \n",
       "1                                             440   \n",
       "2                                              68   \n",
       "3                                              22   \n",
       "4                                            1299   \n",
       "5                                             198   \n",
       "6                                             135   \n",
       "7                                             511   \n",
       "8                                             435   \n",
       "9                                             102   \n",
       "\n",
       "   Number of Likes for the Twelfth Previous Post  \\\n",
       "0                                             17   \n",
       "1                                            428   \n",
       "2                                            149   \n",
       "3                                             35   \n",
       "4                                            544   \n",
       "5                                            188   \n",
       "6                                            145   \n",
       "7                                            318   \n",
       "8                                            333   \n",
       "9                                            160   \n",
       "\n",
       "   Number of Self-Presenting Posts from Nine Previous Posts Gender  \n",
       "0                                                  0             m  \n",
       "1                                                  0             f  \n",
       "2                                                  4             f  \n",
       "3                                                  3             m  \n",
       "4                                                  0             m  \n",
       "5                                                  4             f  \n",
       "6                                                  2             m  \n",
       "7                                                  0             m  \n",
       "8                                                  0             f  \n",
       "9                                                  1             f  "
      ]
     },
     "execution_count": 2,
     "metadata": {},
     "output_type": "execute_result"
    }
   ],
   "source": [
    "df.head(10)"
   ]
  },
  {
   "cell_type": "markdown",
   "id": "f5811492-1d20-479e-91b3-1c740fefcfc1",
   "metadata": {},
   "source": [
    "### Remove `Users` column"
   ]
  },
  {
   "cell_type": "code",
   "execution_count": 3,
   "id": "4dca2aaa-3468-43c7-a1c4-06b21dcb8156",
   "metadata": {},
   "outputs": [
    {
     "data": {
      "text/html": [
       "<div>\n",
       "<style scoped>\n",
       "    .dataframe tbody tr th:only-of-type {\n",
       "        vertical-align: middle;\n",
       "    }\n",
       "\n",
       "    .dataframe tbody tr th {\n",
       "        vertical-align: top;\n",
       "    }\n",
       "\n",
       "    .dataframe thead th {\n",
       "        text-align: right;\n",
       "    }\n",
       "</style>\n",
       "<table border=\"1\" class=\"dataframe\">\n",
       "  <thead>\n",
       "    <tr style=\"text-align: right;\">\n",
       "      <th></th>\n",
       "      <th>Number of Posts</th>\n",
       "      <th>Number of Followers</th>\n",
       "      <th>Number of Followings</th>\n",
       "      <th>Number of Likes for the Tenth Previous Post</th>\n",
       "      <th>Number of Likes for the Eleventh Previous Post</th>\n",
       "      <th>Number of Likes for the Twelfth Previous Post</th>\n",
       "      <th>Number of Self-Presenting Posts from Nine Previous Posts</th>\n",
       "      <th>Gender</th>\n",
       "    </tr>\n",
       "  </thead>\n",
       "  <tbody>\n",
       "    <tr>\n",
       "      <th>0</th>\n",
       "      <td>486</td>\n",
       "      <td>279</td>\n",
       "      <td>19</td>\n",
       "      <td>15</td>\n",
       "      <td>10</td>\n",
       "      <td>17</td>\n",
       "      <td>0</td>\n",
       "      <td>m</td>\n",
       "    </tr>\n",
       "    <tr>\n",
       "      <th>1</th>\n",
       "      <td>401</td>\n",
       "      <td>5509</td>\n",
       "      <td>342</td>\n",
       "      <td>360</td>\n",
       "      <td>440</td>\n",
       "      <td>428</td>\n",
       "      <td>0</td>\n",
       "      <td>f</td>\n",
       "    </tr>\n",
       "    <tr>\n",
       "      <th>2</th>\n",
       "      <td>463</td>\n",
       "      <td>453</td>\n",
       "      <td>293</td>\n",
       "      <td>65</td>\n",
       "      <td>68</td>\n",
       "      <td>149</td>\n",
       "      <td>4</td>\n",
       "      <td>f</td>\n",
       "    </tr>\n",
       "    <tr>\n",
       "      <th>3</th>\n",
       "      <td>154</td>\n",
       "      <td>1231</td>\n",
       "      <td>1477</td>\n",
       "      <td>53</td>\n",
       "      <td>22</td>\n",
       "      <td>35</td>\n",
       "      <td>3</td>\n",
       "      <td>m</td>\n",
       "    </tr>\n",
       "    <tr>\n",
       "      <th>4</th>\n",
       "      <td>786</td>\n",
       "      <td>9620</td>\n",
       "      <td>421</td>\n",
       "      <td>623</td>\n",
       "      <td>1299</td>\n",
       "      <td>544</td>\n",
       "      <td>0</td>\n",
       "      <td>m</td>\n",
       "    </tr>\n",
       "    <tr>\n",
       "      <th>5</th>\n",
       "      <td>490</td>\n",
       "      <td>7702</td>\n",
       "      <td>379</td>\n",
       "      <td>190</td>\n",
       "      <td>198</td>\n",
       "      <td>188</td>\n",
       "      <td>4</td>\n",
       "      <td>f</td>\n",
       "    </tr>\n",
       "    <tr>\n",
       "      <th>6</th>\n",
       "      <td>405</td>\n",
       "      <td>1282</td>\n",
       "      <td>370</td>\n",
       "      <td>123</td>\n",
       "      <td>135</td>\n",
       "      <td>145</td>\n",
       "      <td>2</td>\n",
       "      <td>m</td>\n",
       "    </tr>\n",
       "    <tr>\n",
       "      <th>7</th>\n",
       "      <td>638</td>\n",
       "      <td>2312</td>\n",
       "      <td>365</td>\n",
       "      <td>466</td>\n",
       "      <td>511</td>\n",
       "      <td>318</td>\n",
       "      <td>0</td>\n",
       "      <td>m</td>\n",
       "    </tr>\n",
       "    <tr>\n",
       "      <th>8</th>\n",
       "      <td>73</td>\n",
       "      <td>1819</td>\n",
       "      <td>852</td>\n",
       "      <td>343</td>\n",
       "      <td>435</td>\n",
       "      <td>333</td>\n",
       "      <td>0</td>\n",
       "      <td>f</td>\n",
       "    </tr>\n",
       "    <tr>\n",
       "      <th>9</th>\n",
       "      <td>600</td>\n",
       "      <td>2056</td>\n",
       "      <td>606</td>\n",
       "      <td>130</td>\n",
       "      <td>102</td>\n",
       "      <td>160</td>\n",
       "      <td>1</td>\n",
       "      <td>f</td>\n",
       "    </tr>\n",
       "  </tbody>\n",
       "</table>\n",
       "</div>"
      ],
      "text/plain": [
       "   Number of Posts  Number of Followers  Number of Followings  \\\n",
       "0              486                  279                    19   \n",
       "1              401                 5509                   342   \n",
       "2              463                  453                   293   \n",
       "3              154                 1231                  1477   \n",
       "4              786                 9620                   421   \n",
       "5              490                 7702                   379   \n",
       "6              405                 1282                   370   \n",
       "7              638                 2312                   365   \n",
       "8               73                 1819                   852   \n",
       "9              600                 2056                   606   \n",
       "\n",
       "   Number of Likes for the Tenth Previous Post  \\\n",
       "0                                           15   \n",
       "1                                          360   \n",
       "2                                           65   \n",
       "3                                           53   \n",
       "4                                          623   \n",
       "5                                          190   \n",
       "6                                          123   \n",
       "7                                          466   \n",
       "8                                          343   \n",
       "9                                          130   \n",
       "\n",
       "   Number of Likes for the Eleventh Previous Post  \\\n",
       "0                                              10   \n",
       "1                                             440   \n",
       "2                                              68   \n",
       "3                                              22   \n",
       "4                                            1299   \n",
       "5                                             198   \n",
       "6                                             135   \n",
       "7                                             511   \n",
       "8                                             435   \n",
       "9                                             102   \n",
       "\n",
       "   Number of Likes for the Twelfth Previous Post  \\\n",
       "0                                             17   \n",
       "1                                            428   \n",
       "2                                            149   \n",
       "3                                             35   \n",
       "4                                            544   \n",
       "5                                            188   \n",
       "6                                            145   \n",
       "7                                            318   \n",
       "8                                            333   \n",
       "9                                            160   \n",
       "\n",
       "   Number of Self-Presenting Posts from Nine Previous Posts Gender  \n",
       "0                                                  0             m  \n",
       "1                                                  0             f  \n",
       "2                                                  4             f  \n",
       "3                                                  3             m  \n",
       "4                                                  0             m  \n",
       "5                                                  4             f  \n",
       "6                                                  2             m  \n",
       "7                                                  0             m  \n",
       "8                                                  0             f  \n",
       "9                                                  1             f  "
      ]
     },
     "execution_count": 3,
     "metadata": {},
     "output_type": "execute_result"
    }
   ],
   "source": [
    "df.drop(df.columns[0], axis = 1, inplace = True)\n",
    "df.head(10)"
   ]
  },
  {
   "cell_type": "markdown",
   "id": "38ca4217-dc1f-421e-9fbc-4f8fc4ec93ca",
   "metadata": {},
   "source": [
    "### Replace 'm' with 1 and 'f' with 0 in the `Gender` column"
   ]
  },
  {
   "cell_type": "code",
   "execution_count": 4,
   "id": "e59f9b98-03ec-4eea-a06b-568137b83127",
   "metadata": {},
   "outputs": [
    {
     "data": {
      "text/html": [
       "<div>\n",
       "<style scoped>\n",
       "    .dataframe tbody tr th:only-of-type {\n",
       "        vertical-align: middle;\n",
       "    }\n",
       "\n",
       "    .dataframe tbody tr th {\n",
       "        vertical-align: top;\n",
       "    }\n",
       "\n",
       "    .dataframe thead th {\n",
       "        text-align: right;\n",
       "    }\n",
       "</style>\n",
       "<table border=\"1\" class=\"dataframe\">\n",
       "  <thead>\n",
       "    <tr style=\"text-align: right;\">\n",
       "      <th></th>\n",
       "      <th>Number of Posts</th>\n",
       "      <th>Number of Followers</th>\n",
       "      <th>Number of Followings</th>\n",
       "      <th>Number of Likes for the Tenth Previous Post</th>\n",
       "      <th>Number of Likes for the Eleventh Previous Post</th>\n",
       "      <th>Number of Likes for the Twelfth Previous Post</th>\n",
       "      <th>Number of Self-Presenting Posts from Nine Previous Posts</th>\n",
       "      <th>Gender</th>\n",
       "    </tr>\n",
       "  </thead>\n",
       "  <tbody>\n",
       "    <tr>\n",
       "      <th>0</th>\n",
       "      <td>486</td>\n",
       "      <td>279</td>\n",
       "      <td>19</td>\n",
       "      <td>15</td>\n",
       "      <td>10</td>\n",
       "      <td>17</td>\n",
       "      <td>0</td>\n",
       "      <td>1</td>\n",
       "    </tr>\n",
       "    <tr>\n",
       "      <th>1</th>\n",
       "      <td>401</td>\n",
       "      <td>5509</td>\n",
       "      <td>342</td>\n",
       "      <td>360</td>\n",
       "      <td>440</td>\n",
       "      <td>428</td>\n",
       "      <td>0</td>\n",
       "      <td>0</td>\n",
       "    </tr>\n",
       "    <tr>\n",
       "      <th>2</th>\n",
       "      <td>463</td>\n",
       "      <td>453</td>\n",
       "      <td>293</td>\n",
       "      <td>65</td>\n",
       "      <td>68</td>\n",
       "      <td>149</td>\n",
       "      <td>4</td>\n",
       "      <td>0</td>\n",
       "    </tr>\n",
       "    <tr>\n",
       "      <th>3</th>\n",
       "      <td>154</td>\n",
       "      <td>1231</td>\n",
       "      <td>1477</td>\n",
       "      <td>53</td>\n",
       "      <td>22</td>\n",
       "      <td>35</td>\n",
       "      <td>3</td>\n",
       "      <td>1</td>\n",
       "    </tr>\n",
       "    <tr>\n",
       "      <th>4</th>\n",
       "      <td>786</td>\n",
       "      <td>9620</td>\n",
       "      <td>421</td>\n",
       "      <td>623</td>\n",
       "      <td>1299</td>\n",
       "      <td>544</td>\n",
       "      <td>0</td>\n",
       "      <td>1</td>\n",
       "    </tr>\n",
       "    <tr>\n",
       "      <th>5</th>\n",
       "      <td>490</td>\n",
       "      <td>7702</td>\n",
       "      <td>379</td>\n",
       "      <td>190</td>\n",
       "      <td>198</td>\n",
       "      <td>188</td>\n",
       "      <td>4</td>\n",
       "      <td>0</td>\n",
       "    </tr>\n",
       "    <tr>\n",
       "      <th>6</th>\n",
       "      <td>405</td>\n",
       "      <td>1282</td>\n",
       "      <td>370</td>\n",
       "      <td>123</td>\n",
       "      <td>135</td>\n",
       "      <td>145</td>\n",
       "      <td>2</td>\n",
       "      <td>1</td>\n",
       "    </tr>\n",
       "    <tr>\n",
       "      <th>7</th>\n",
       "      <td>638</td>\n",
       "      <td>2312</td>\n",
       "      <td>365</td>\n",
       "      <td>466</td>\n",
       "      <td>511</td>\n",
       "      <td>318</td>\n",
       "      <td>0</td>\n",
       "      <td>1</td>\n",
       "    </tr>\n",
       "    <tr>\n",
       "      <th>8</th>\n",
       "      <td>73</td>\n",
       "      <td>1819</td>\n",
       "      <td>852</td>\n",
       "      <td>343</td>\n",
       "      <td>435</td>\n",
       "      <td>333</td>\n",
       "      <td>0</td>\n",
       "      <td>0</td>\n",
       "    </tr>\n",
       "    <tr>\n",
       "      <th>9</th>\n",
       "      <td>600</td>\n",
       "      <td>2056</td>\n",
       "      <td>606</td>\n",
       "      <td>130</td>\n",
       "      <td>102</td>\n",
       "      <td>160</td>\n",
       "      <td>1</td>\n",
       "      <td>0</td>\n",
       "    </tr>\n",
       "  </tbody>\n",
       "</table>\n",
       "</div>"
      ],
      "text/plain": [
       "   Number of Posts  Number of Followers  Number of Followings  \\\n",
       "0              486                  279                    19   \n",
       "1              401                 5509                   342   \n",
       "2              463                  453                   293   \n",
       "3              154                 1231                  1477   \n",
       "4              786                 9620                   421   \n",
       "5              490                 7702                   379   \n",
       "6              405                 1282                   370   \n",
       "7              638                 2312                   365   \n",
       "8               73                 1819                   852   \n",
       "9              600                 2056                   606   \n",
       "\n",
       "   Number of Likes for the Tenth Previous Post  \\\n",
       "0                                           15   \n",
       "1                                          360   \n",
       "2                                           65   \n",
       "3                                           53   \n",
       "4                                          623   \n",
       "5                                          190   \n",
       "6                                          123   \n",
       "7                                          466   \n",
       "8                                          343   \n",
       "9                                          130   \n",
       "\n",
       "   Number of Likes for the Eleventh Previous Post  \\\n",
       "0                                              10   \n",
       "1                                             440   \n",
       "2                                              68   \n",
       "3                                              22   \n",
       "4                                            1299   \n",
       "5                                             198   \n",
       "6                                             135   \n",
       "7                                             511   \n",
       "8                                             435   \n",
       "9                                             102   \n",
       "\n",
       "   Number of Likes for the Twelfth Previous Post  \\\n",
       "0                                             17   \n",
       "1                                            428   \n",
       "2                                            149   \n",
       "3                                             35   \n",
       "4                                            544   \n",
       "5                                            188   \n",
       "6                                            145   \n",
       "7                                            318   \n",
       "8                                            333   \n",
       "9                                            160   \n",
       "\n",
       "   Number of Self-Presenting Posts from Nine Previous Posts  Gender  \n",
       "0                                                  0              1  \n",
       "1                                                  0              0  \n",
       "2                                                  4              0  \n",
       "3                                                  3              1  \n",
       "4                                                  0              1  \n",
       "5                                                  4              0  \n",
       "6                                                  2              1  \n",
       "7                                                  0              1  \n",
       "8                                                  0              0  \n",
       "9                                                  1              0  "
      ]
     },
     "execution_count": 4,
     "metadata": {},
     "output_type": "execute_result"
    }
   ],
   "source": [
    "df['Gender'] = df['Gender'].replace({'m': 1, 'f': 0})\n",
    "df.head(10)"
   ]
  },
  {
   "cell_type": "markdown",
   "id": "9810629e-4a8d-40ad-86d7-0cb755c16634",
   "metadata": {},
   "source": [
    "## Descriptive Statistics"
   ]
  },
  {
   "cell_type": "code",
   "execution_count": 5,
   "id": "1d32edcf-f80d-49aa-bd3d-46fcf5178936",
   "metadata": {},
   "outputs": [
    {
     "data": {
      "text/html": [
       "<div>\n",
       "<style scoped>\n",
       "    .dataframe tbody tr th:only-of-type {\n",
       "        vertical-align: middle;\n",
       "    }\n",
       "\n",
       "    .dataframe tbody tr th {\n",
       "        vertical-align: top;\n",
       "    }\n",
       "\n",
       "    .dataframe thead th {\n",
       "        text-align: right;\n",
       "    }\n",
       "</style>\n",
       "<table border=\"1\" class=\"dataframe\">\n",
       "  <thead>\n",
       "    <tr style=\"text-align: right;\">\n",
       "      <th></th>\n",
       "      <th>Number of Posts</th>\n",
       "      <th>Number of Followers</th>\n",
       "      <th>Number of Followings</th>\n",
       "      <th>Number of Likes for the Tenth Previous Post</th>\n",
       "      <th>Number of Likes for the Eleventh Previous Post</th>\n",
       "      <th>Number of Likes for the Twelfth Previous Post</th>\n",
       "      <th>Number of Self-Presenting Posts from Nine Previous Posts</th>\n",
       "      <th>Gender</th>\n",
       "    </tr>\n",
       "  </thead>\n",
       "  <tbody>\n",
       "    <tr>\n",
       "      <th>count</th>\n",
       "      <td>1000.000000</td>\n",
       "      <td>1000.00000</td>\n",
       "      <td>1000.000000</td>\n",
       "      <td>1000.000000</td>\n",
       "      <td>1000.000000</td>\n",
       "      <td>1000.000000</td>\n",
       "      <td>1000.000000</td>\n",
       "      <td>1000.00000</td>\n",
       "    </tr>\n",
       "    <tr>\n",
       "      <th>mean</th>\n",
       "      <td>425.202000</td>\n",
       "      <td>1542.06100</td>\n",
       "      <td>1979.402000</td>\n",
       "      <td>114.621000</td>\n",
       "      <td>112.477000</td>\n",
       "      <td>114.923000</td>\n",
       "      <td>4.014000</td>\n",
       "      <td>0.50000</td>\n",
       "    </tr>\n",
       "    <tr>\n",
       "      <th>std</th>\n",
       "      <td>671.586881</td>\n",
       "      <td>1978.69823</td>\n",
       "      <td>2013.881415</td>\n",
       "      <td>197.677054</td>\n",
       "      <td>192.674074</td>\n",
       "      <td>202.001628</td>\n",
       "      <td>3.180239</td>\n",
       "      <td>0.50025</td>\n",
       "    </tr>\n",
       "    <tr>\n",
       "      <th>min</th>\n",
       "      <td>33.000000</td>\n",
       "      <td>16.00000</td>\n",
       "      <td>11.000000</td>\n",
       "      <td>0.000000</td>\n",
       "      <td>0.000000</td>\n",
       "      <td>0.000000</td>\n",
       "      <td>0.000000</td>\n",
       "      <td>0.00000</td>\n",
       "    </tr>\n",
       "    <tr>\n",
       "      <th>25%</th>\n",
       "      <td>101.000000</td>\n",
       "      <td>357.00000</td>\n",
       "      <td>500.750000</td>\n",
       "      <td>20.000000</td>\n",
       "      <td>19.000000</td>\n",
       "      <td>19.000000</td>\n",
       "      <td>1.000000</td>\n",
       "      <td>0.00000</td>\n",
       "    </tr>\n",
       "    <tr>\n",
       "      <th>50%</th>\n",
       "      <td>203.000000</td>\n",
       "      <td>769.00000</td>\n",
       "      <td>1112.500000</td>\n",
       "      <td>47.500000</td>\n",
       "      <td>51.000000</td>\n",
       "      <td>51.000000</td>\n",
       "      <td>4.000000</td>\n",
       "      <td>0.50000</td>\n",
       "    </tr>\n",
       "    <tr>\n",
       "      <th>75%</th>\n",
       "      <td>459.500000</td>\n",
       "      <td>1710.25000</td>\n",
       "      <td>2778.000000</td>\n",
       "      <td>119.500000</td>\n",
       "      <td>116.000000</td>\n",
       "      <td>119.500000</td>\n",
       "      <td>7.000000</td>\n",
       "      <td>1.00000</td>\n",
       "    </tr>\n",
       "    <tr>\n",
       "      <th>max</th>\n",
       "      <td>7733.000000</td>\n",
       "      <td>9953.00000</td>\n",
       "      <td>7735.000000</td>\n",
       "      <td>1620.000000</td>\n",
       "      <td>1956.000000</td>\n",
       "      <td>1806.000000</td>\n",
       "      <td>9.000000</td>\n",
       "      <td>1.00000</td>\n",
       "    </tr>\n",
       "  </tbody>\n",
       "</table>\n",
       "</div>"
      ],
      "text/plain": [
       "       Number of Posts  Number of Followers  Number of Followings  \\\n",
       "count      1000.000000           1000.00000           1000.000000   \n",
       "mean        425.202000           1542.06100           1979.402000   \n",
       "std         671.586881           1978.69823           2013.881415   \n",
       "min          33.000000             16.00000             11.000000   \n",
       "25%         101.000000            357.00000            500.750000   \n",
       "50%         203.000000            769.00000           1112.500000   \n",
       "75%         459.500000           1710.25000           2778.000000   \n",
       "max        7733.000000           9953.00000           7735.000000   \n",
       "\n",
       "       Number of Likes for the Tenth Previous Post  \\\n",
       "count                                  1000.000000   \n",
       "mean                                    114.621000   \n",
       "std                                     197.677054   \n",
       "min                                       0.000000   \n",
       "25%                                      20.000000   \n",
       "50%                                      47.500000   \n",
       "75%                                     119.500000   \n",
       "max                                    1620.000000   \n",
       "\n",
       "       Number of Likes for the Eleventh Previous Post  \\\n",
       "count                                     1000.000000   \n",
       "mean                                       112.477000   \n",
       "std                                        192.674074   \n",
       "min                                          0.000000   \n",
       "25%                                         19.000000   \n",
       "50%                                         51.000000   \n",
       "75%                                        116.000000   \n",
       "max                                       1956.000000   \n",
       "\n",
       "       Number of Likes for the Twelfth Previous Post  \\\n",
       "count                                    1000.000000   \n",
       "mean                                      114.923000   \n",
       "std                                       202.001628   \n",
       "min                                         0.000000   \n",
       "25%                                        19.000000   \n",
       "50%                                        51.000000   \n",
       "75%                                       119.500000   \n",
       "max                                      1806.000000   \n",
       "\n",
       "       Number of Self-Presenting Posts from Nine Previous Posts      Gender  \n",
       "count                                        1000.000000         1000.00000  \n",
       "mean                                            4.014000            0.50000  \n",
       "std                                             3.180239            0.50025  \n",
       "min                                             0.000000            0.00000  \n",
       "25%                                             1.000000            0.00000  \n",
       "50%                                             4.000000            0.50000  \n",
       "75%                                             7.000000            1.00000  \n",
       "max                                             9.000000            1.00000  "
      ]
     },
     "execution_count": 5,
     "metadata": {},
     "output_type": "execute_result"
    }
   ],
   "source": [
    "df.describe()"
   ]
  },
  {
   "cell_type": "markdown",
   "id": "c910c86d-3536-4cc1-87ab-d923fffdd592",
   "metadata": {},
   "source": [
    "### Mean"
   ]
  },
  {
   "cell_type": "code",
   "execution_count": 6,
   "id": "6f49a3c1-24ea-4dc7-a8f3-6f491ef4fef5",
   "metadata": {},
   "outputs": [
    {
     "name": "stdout",
     "output_type": "stream",
     "text": [
      "Number of Posts                                              425.202\n",
      "Number of Followers                                         1542.061\n",
      "Number of Followings                                        1979.402\n",
      "Number of Likes for the Tenth Previous Post                  114.621\n",
      "Number of Likes for the Eleventh Previous Post               112.477\n",
      "Number of Likes for the Twelfth Previous Post                114.923\n",
      "Number of Self-Presenting Posts from Nine Previous Posts       4.014\n",
      "Gender                                                         0.500\n",
      "dtype: float64\n"
     ]
    }
   ],
   "source": [
    "print(df.mean(numeric_only=True))"
   ]
  },
  {
   "cell_type": "markdown",
   "id": "0cf661f4-e5bb-4421-bd22-0b09daef5b8e",
   "metadata": {},
   "source": [
    "### Median"
   ]
  },
  {
   "cell_type": "code",
   "execution_count": 7,
   "id": "4de66ad8-594d-453f-8065-9b56d3f5de45",
   "metadata": {},
   "outputs": [
    {
     "name": "stdout",
     "output_type": "stream",
     "text": [
      "Number of Posts                                              203.0\n",
      "Number of Followers                                          769.0\n",
      "Number of Followings                                        1112.5\n",
      "Number of Likes for the Tenth Previous Post                   47.5\n",
      "Number of Likes for the Eleventh Previous Post                51.0\n",
      "Number of Likes for the Twelfth Previous Post                 51.0\n",
      "Number of Self-Presenting Posts from Nine Previous Posts       4.0\n",
      "Gender                                                         0.5\n",
      "dtype: float64\n"
     ]
    }
   ],
   "source": [
    "print(df.median())"
   ]
  },
  {
   "cell_type": "markdown",
   "id": "fa5f6b9b-f0e2-466f-b040-7c290fb4b8f2",
   "metadata": {},
   "source": [
    "### Mode"
   ]
  },
  {
   "cell_type": "code",
   "execution_count": 8,
   "id": "db23b06f-a685-4483-8ab4-0d070c4cbbab",
   "metadata": {},
   "outputs": [
    {
     "name": "stdout",
     "output_type": "stream",
     "text": [
      "   Number of Posts  Number of Followers  Number of Followings  \\\n",
      "0             67.0                  221                 248.0   \n",
      "1              NaN                  359                7500.0   \n",
      "2              NaN                  366                   NaN   \n",
      "3              NaN                 1108                   NaN   \n",
      "4              NaN                 1247                   NaN   \n",
      "\n",
      "   Number of Likes for the Tenth Previous Post  \\\n",
      "0                                         18.0   \n",
      "1                                         25.0   \n",
      "2                                          NaN   \n",
      "3                                          NaN   \n",
      "4                                          NaN   \n",
      "\n",
      "   Number of Likes for the Eleventh Previous Post  \\\n",
      "0                                            12.0   \n",
      "1                                             NaN   \n",
      "2                                             NaN   \n",
      "3                                             NaN   \n",
      "4                                             NaN   \n",
      "\n",
      "   Number of Likes for the Twelfth Previous Post  \\\n",
      "0                                            6.0   \n",
      "1                                            NaN   \n",
      "2                                            NaN   \n",
      "3                                            NaN   \n",
      "4                                            NaN   \n",
      "\n",
      "   Number of Self-Presenting Posts from Nine Previous Posts  Gender  \n",
      "0                                                0.0            0.0  \n",
      "1                                                NaN            1.0  \n",
      "2                                                NaN            NaN  \n",
      "3                                                NaN            NaN  \n",
      "4                                                NaN            NaN  \n"
     ]
    }
   ],
   "source": [
    "print(df.mode())"
   ]
  },
  {
   "cell_type": "markdown",
   "id": "389aa369-6dac-447e-a3a8-5820c8ba4e98",
   "metadata": {},
   "source": [
    "### Standard Deviation"
   ]
  },
  {
   "cell_type": "code",
   "execution_count": 9,
   "id": "ff8d1b20-4ee0-4295-bd85-c7019ecfb9cb",
   "metadata": {},
   "outputs": [
    {
     "name": "stdout",
     "output_type": "stream",
     "text": [
      "Number of Posts                                              671.586881\n",
      "Number of Followers                                         1978.698230\n",
      "Number of Followings                                        2013.881415\n",
      "Number of Likes for the Tenth Previous Post                  197.677054\n",
      "Number of Likes for the Eleventh Previous Post               192.674074\n",
      "Number of Likes for the Twelfth Previous Post                202.001628\n",
      "Number of Self-Presenting Posts from Nine Previous Posts       3.180239\n",
      "Gender                                                         0.500250\n",
      "dtype: float64\n"
     ]
    }
   ],
   "source": [
    "print(df.std())"
   ]
  },
  {
   "cell_type": "markdown",
   "id": "439fe955-8d8f-4d65-b026-6e4e064336a5",
   "metadata": {},
   "source": [
    "### Kurtosis"
   ]
  },
  {
   "cell_type": "code",
   "execution_count": 10,
   "id": "0b75699a-d428-46b1-bd83-cdfe5888ba02",
   "metadata": {},
   "outputs": [
    {
     "name": "stdout",
     "output_type": "stream",
     "text": [
      "Number of Posts                                             38.542180\n",
      "Number of Followers                                          4.788843\n",
      "Number of Followings                                         0.755945\n",
      "Number of Likes for the Tenth Previous Post                 20.485088\n",
      "Number of Likes for the Eleventh Previous Post              23.016034\n",
      "Number of Likes for the Twelfth Previous Post               24.113457\n",
      "Number of Self-Presenting Posts from Nine Previous Posts    -1.365540\n",
      "Gender                                                      -2.004012\n",
      "dtype: float64\n"
     ]
    }
   ],
   "source": [
    "print(df.kurtosis())"
   ]
  },
  {
   "cell_type": "markdown",
   "id": "d21062cd-ddaf-49e3-a5c5-aabde5cd5432",
   "metadata": {},
   "source": [
    "### Skewness"
   ]
  },
  {
   "cell_type": "code",
   "execution_count": 11,
   "id": "df3236ab-54f5-405f-ac43-913672d3a993",
   "metadata": {},
   "outputs": [
    {
     "name": "stdout",
     "output_type": "stream",
     "text": [
      "Number of Posts                                             5.162574\n",
      "Number of Followers                                         2.256487\n",
      "Number of Followings                                        1.341533\n",
      "Number of Likes for the Tenth Previous Post                 4.094515\n",
      "Number of Likes for the Eleventh Previous Post              4.205473\n",
      "Number of Likes for the Twelfth Previous Post               4.389806\n",
      "Number of Self-Presenting Posts from Nine Previous Posts    0.182163\n",
      "Gender                                                      0.000000\n",
      "dtype: float64\n"
     ]
    }
   ],
   "source": [
    "print(df.skew())"
   ]
  },
  {
   "cell_type": "markdown",
   "id": "bffd3757-feb5-4315-b827-ab1679dbb46c",
   "metadata": {},
   "source": [
    "### Maximum"
   ]
  },
  {
   "cell_type": "code",
   "execution_count": 12,
   "id": "554739df-f400-434a-92f9-6fd83b57e68b",
   "metadata": {},
   "outputs": [
    {
     "name": "stdout",
     "output_type": "stream",
     "text": [
      "Number of Posts                                             7733\n",
      "Number of Followers                                         9953\n",
      "Number of Followings                                        7735\n",
      "Number of Likes for the Tenth Previous Post                 1620\n",
      "Number of Likes for the Eleventh Previous Post              1956\n",
      "Number of Likes for the Twelfth Previous Post               1806\n",
      "Number of Self-Presenting Posts from Nine Previous Posts       9\n",
      "Gender                                                         1\n",
      "dtype: int64\n"
     ]
    }
   ],
   "source": [
    "max = df.max()\n",
    "print(max)"
   ]
  },
  {
   "cell_type": "markdown",
   "id": "f219b63f-1785-48b1-b97c-bdea29f1cd95",
   "metadata": {},
   "source": [
    "### Minimum"
   ]
  },
  {
   "cell_type": "code",
   "execution_count": 13,
   "id": "a87afce2-6513-4b0f-951b-66fb02d5c6bb",
   "metadata": {},
   "outputs": [
    {
     "name": "stdout",
     "output_type": "stream",
     "text": [
      "Number of Posts                                             33\n",
      "Number of Followers                                         16\n",
      "Number of Followings                                        11\n",
      "Number of Likes for the Tenth Previous Post                  0\n",
      "Number of Likes for the Eleventh Previous Post               0\n",
      "Number of Likes for the Twelfth Previous Post                0\n",
      "Number of Self-Presenting Posts from Nine Previous Posts     0\n",
      "Gender                                                       0\n",
      "dtype: int64\n"
     ]
    }
   ],
   "source": [
    "min = df.min()\n",
    "print(min)"
   ]
  },
  {
   "cell_type": "markdown",
   "id": "c3353611-64fc-450a-b47e-704dd8e6dda1",
   "metadata": {},
   "source": [
    "### Range"
   ]
  },
  {
   "cell_type": "code",
   "execution_count": 14,
   "id": "732f091d-393e-45fb-933d-ed0621581493",
   "metadata": {},
   "outputs": [
    {
     "name": "stdout",
     "output_type": "stream",
     "text": [
      "Number of Posts                                             7700\n",
      "Number of Followers                                         9937\n",
      "Number of Followings                                        7724\n",
      "Number of Likes for the Tenth Previous Post                 1620\n",
      "Number of Likes for the Eleventh Previous Post              1956\n",
      "Number of Likes for the Twelfth Previous Post               1806\n",
      "Number of Self-Presenting Posts from Nine Previous Posts       9\n",
      "Gender                                                         1\n",
      "dtype: int64\n"
     ]
    }
   ],
   "source": [
    "print(max - min)"
   ]
  },
  {
   "cell_type": "markdown",
   "id": "933b8dd0-81a7-4e71-81c7-5369fb690ac0",
   "metadata": {},
   "source": [
    "### Geometric Mean"
   ]
  },
  {
   "cell_type": "code",
   "execution_count": 15,
   "id": "1798b22f-81de-43b1-8ab9-3d07003134f7",
   "metadata": {},
   "outputs": [
    {
     "name": "stdout",
     "output_type": "stream",
     "text": [
      "[ 233.63572419  804.82078889 1136.34024681    0.            0.\n",
      "    0.            0.            0.        ]\n"
     ]
    }
   ],
   "source": [
    "print(stats.gmean(df))"
   ]
  },
  {
   "cell_type": "markdown",
   "id": "26dafa89-f91b-48c6-b495-5c1ff74cdd48",
   "metadata": {},
   "source": [
    "### Harmonic Mean"
   ]
  },
  {
   "cell_type": "code",
   "execution_count": 16,
   "id": "2a7beaba-2da6-4a8a-bb38-59a5a8c95c6c",
   "metadata": {},
   "outputs": [
    {
     "name": "stdout",
     "output_type": "stream",
     "text": [
      "[153.84715815 423.98942173 538.11654221   0.           0.\n",
      "   0.           0.           0.        ]\n"
     ]
    }
   ],
   "source": [
    "print(stats.hmean(df))"
   ]
  },
  {
   "cell_type": "markdown",
   "id": "6eebef62-7e14-490b-8b6c-90668339ec52",
   "metadata": {},
   "source": [
    "### 20th Percentile"
   ]
  },
  {
   "cell_type": "code",
   "execution_count": 17,
   "id": "3ea2bd46-ce3d-4e49-8711-525cfbc8362f",
   "metadata": {},
   "outputs": [
    {
     "name": "stdout",
     "output_type": "stream",
     "text": [
      "Number of Posts = 89.0\n",
      "Number of Followers = 302.6\n",
      "Number of Followings = 428.20000000000005\n",
      "Number of Likes for the Tenth Previous Post = 16.0\n",
      "Number of Likes for the Eleventh Previous Post = 15.0\n",
      "Number of Likes for the Twelfth Previous Post = 15.0\n",
      "Number of Self-Presenting Posts from Nine Previous Posts = 0.0\n",
      "Gender = 0.0\n"
     ]
    }
   ],
   "source": [
    "for col in df.columns:\n",
    "    percentile_20 = np.percentile(df[col], 20)\n",
    "    print(f\"{col} = {percentile_20}\")"
   ]
  },
  {
   "cell_type": "markdown",
   "id": "3f348f40-b8e5-41e1-88d7-7574e7947895",
   "metadata": {},
   "source": [
    "### 80th Percentile"
   ]
  },
  {
   "cell_type": "code",
   "execution_count": 18,
   "id": "c2ba9cd3-5fc0-450a-a40a-2e075588eebf",
   "metadata": {},
   "outputs": [
    {
     "name": "stdout",
     "output_type": "stream",
     "text": [
      "Number of Posts = 560.0000000000002\n",
      "Number of Followers = 2284.0\n",
      "Number of Followings = 3369.0\n",
      "Number of Likes for the Tenth Previous Post = 146.4000000000001\n",
      "Number of Likes for the Eleventh Previous Post = 148.20000000000005\n",
      "Number of Likes for the Twelfth Previous Post = 147.4000000000001\n",
      "Number of Self-Presenting Posts from Nine Previous Posts = 8.0\n",
      "Gender = 1.0\n"
     ]
    }
   ],
   "source": [
    "for col in df.columns:\n",
    "    percentile_80 = np.percentile(df[col], 80)\n",
    "    print(f\"{col} = {percentile_80}\")"
   ]
  },
  {
   "cell_type": "markdown",
   "id": "84d563ed-116c-4540-a6fb-7886ec00214f",
   "metadata": {},
   "source": [
    "### First Quartile"
   ]
  },
  {
   "cell_type": "code",
   "execution_count": 19,
   "id": "018f784e-39fd-460d-bd86-6477a9a00b7f",
   "metadata": {},
   "outputs": [
    {
     "name": "stdout",
     "output_type": "stream",
     "text": [
      "Number of Posts = 101.0\n",
      "Number of Followers = 357.0\n",
      "Number of Followings = 500.75\n",
      "Number of Likes for the Tenth Previous Post = 20.0\n",
      "Number of Likes for the Eleventh Previous Post = 19.0\n",
      "Number of Likes for the Twelfth Previous Post = 19.0\n",
      "Number of Self-Presenting Posts from Nine Previous Posts = 1.0\n",
      "Gender = 0.0\n"
     ]
    }
   ],
   "source": [
    "for col in df.columns:\n",
    "    q1 = np.percentile(df[col], 25)\n",
    "    print(f\"{col} = {q1}\")"
   ]
  },
  {
   "cell_type": "markdown",
   "id": "ea7e12e4-f179-4ff9-90a0-47a2d1344bcc",
   "metadata": {},
   "source": [
    "### Third Quartile"
   ]
  },
  {
   "cell_type": "code",
   "execution_count": 20,
   "id": "4f4d4760-f06c-4474-9755-0fb046da8567",
   "metadata": {},
   "outputs": [
    {
     "name": "stdout",
     "output_type": "stream",
     "text": [
      "Number of Posts = 459.5\n",
      "Number of Followers = 1710.25\n",
      "Number of Followings = 2778.0\n",
      "Number of Likes for the Tenth Previous Post = 119.5\n",
      "Number of Likes for the Eleventh Previous Post = 116.0\n",
      "Number of Likes for the Twelfth Previous Post = 119.5\n",
      "Number of Self-Presenting Posts from Nine Previous Posts = 7.0\n",
      "Gender = 1.0\n"
     ]
    }
   ],
   "source": [
    "for col in df.columns:\n",
    "    q3 = np.percentile(df[col], 75)\n",
    "    print(f\"{col} = {q3}\")"
   ]
  },
  {
   "cell_type": "markdown",
   "id": "edadd52e-298b-4827-9d58-445c0d3a061a",
   "metadata": {},
   "source": [
    "### Inter Quartile Range"
   ]
  },
  {
   "cell_type": "code",
   "execution_count": 21,
   "id": "ac1ebaea-d7fa-43c7-9add-c0993527cfe6",
   "metadata": {},
   "outputs": [
    {
     "name": "stdout",
     "output_type": "stream",
     "text": [
      "Number of Posts = 358.5\n",
      "Number of Followers = 1353.25\n",
      "Number of Followings = 2277.25\n",
      "Number of Likes for the Tenth Previous Post = 99.5\n",
      "Number of Likes for the Eleventh Previous Post = 97.0\n",
      "Number of Likes for the Twelfth Previous Post = 100.5\n",
      "Number of Self-Presenting Posts from Nine Previous Posts = 6.0\n",
      "Gender = 1.0\n"
     ]
    }
   ],
   "source": [
    "for col in df.columns:\n",
    "    q1 = np.percentile(df[col], 25)\n",
    "    q3 = np.percentile(df[col], 75)\n",
    "    print(f\"{col} = {q3 - q1}\")"
   ]
  },
  {
   "cell_type": "markdown",
   "id": "924891cf-e279-4c6d-ac7f-8f0f9761b63a",
   "metadata": {},
   "source": [
    "## Correlations"
   ]
  },
  {
   "cell_type": "code",
   "execution_count": 22,
   "id": "55c10bcf-f9bd-4f58-b5c1-7e3cac5775b7",
   "metadata": {},
   "outputs": [
    {
     "name": "stdout",
     "output_type": "stream",
     "text": [
      "                                                    Number of Posts  \\\n",
      "Number of Posts                                            1.000000   \n",
      "Number of Followers                                        0.128720   \n",
      "Number of Followings                                       0.076757   \n",
      "Number of Likes for the Tenth Previous Post               -0.029352   \n",
      "Number of Likes for the Eleventh Previous Post            -0.031905   \n",
      "Number of Likes for the Twelfth Previous Post             -0.045300   \n",
      "Number of Self-Presenting Posts from Nine Previ...        -0.141880   \n",
      "Gender                                                    -0.065058   \n",
      "\n",
      "                                                    Number of Followers  \\\n",
      "Number of Posts                                                0.128720   \n",
      "Number of Followers                                            1.000000   \n",
      "Number of Followings                                           0.392133   \n",
      "Number of Likes for the Tenth Previous Post                    0.666875   \n",
      "Number of Likes for the Eleventh Previous Post                 0.663961   \n",
      "Number of Likes for the Twelfth Previous Post                  0.642512   \n",
      "Number of Self-Presenting Posts from Nine Previ...             0.046480   \n",
      "Gender                                                        -0.009746   \n",
      "\n",
      "                                                    Number of Followings  \\\n",
      "Number of Posts                                                 0.076757   \n",
      "Number of Followers                                             0.392133   \n",
      "Number of Followings                                            1.000000   \n",
      "Number of Likes for the Tenth Previous Post                     0.189281   \n",
      "Number of Likes for the Eleventh Previous Post                  0.198896   \n",
      "Number of Likes for the Twelfth Previous Post                   0.194897   \n",
      "Number of Self-Presenting Posts from Nine Previ...             -0.042341   \n",
      "Gender                                                          0.102608   \n",
      "\n",
      "                                                    Number of Likes for the Tenth Previous Post  \\\n",
      "Number of Posts                                                                       -0.029352   \n",
      "Number of Followers                                                                    0.666875   \n",
      "Number of Followings                                                                   0.189281   \n",
      "Number of Likes for the Tenth Previous Post                                            1.000000   \n",
      "Number of Likes for the Eleventh Previous Post                                         0.919208   \n",
      "Number of Likes for the Twelfth Previous Post                                          0.916395   \n",
      "Number of Self-Presenting Posts from Nine Previ...                                     0.075543   \n",
      "Gender                                                                                 0.001898   \n",
      "\n",
      "                                                    Number of Likes for the Eleventh Previous Post  \\\n",
      "Number of Posts                                                                          -0.031905   \n",
      "Number of Followers                                                                       0.663961   \n",
      "Number of Followings                                                                      0.198896   \n",
      "Number of Likes for the Tenth Previous Post                                               0.919208   \n",
      "Number of Likes for the Eleventh Previous Post                                            1.000000   \n",
      "Number of Likes for the Twelfth Previous Post                                             0.929697   \n",
      "Number of Self-Presenting Posts from Nine Previ...                                        0.051585   \n",
      "Gender                                                                                    0.017100   \n",
      "\n",
      "                                                    Number of Likes for the Twelfth Previous Post  \\\n",
      "Number of Posts                                                                         -0.045300   \n",
      "Number of Followers                                                                      0.642512   \n",
      "Number of Followings                                                                     0.194897   \n",
      "Number of Likes for the Tenth Previous Post                                              0.916395   \n",
      "Number of Likes for the Eleventh Previous Post                                           0.929697   \n",
      "Number of Likes for the Twelfth Previous Post                                            1.000000   \n",
      "Number of Self-Presenting Posts from Nine Previ...                                       0.058831   \n",
      "Gender                                                                                   0.005354   \n",
      "\n",
      "                                                    Number of Self-Presenting Posts from Nine Previous Posts  \\\n",
      "Number of Posts                                                                             -0.141880          \n",
      "Number of Followers                                                                          0.046480          \n",
      "Number of Followings                                                                        -0.042341          \n",
      "Number of Likes for the Tenth Previous Post                                                  0.075543          \n",
      "Number of Likes for the Eleventh Previous Post                                               0.051585          \n",
      "Number of Likes for the Twelfth Previous Post                                                0.058831          \n",
      "Number of Self-Presenting Posts from Nine Previ...                                           1.000000          \n",
      "Gender                                                                                       0.023910          \n",
      "\n",
      "                                                      Gender  \n",
      "Number of Posts                                    -0.065058  \n",
      "Number of Followers                                -0.009746  \n",
      "Number of Followings                                0.102608  \n",
      "Number of Likes for the Tenth Previous Post         0.001898  \n",
      "Number of Likes for the Eleventh Previous Post      0.017100  \n",
      "Number of Likes for the Twelfth Previous Post       0.005354  \n",
      "Number of Self-Presenting Posts from Nine Previ...  0.023910  \n",
      "Gender                                              1.000000  \n"
     ]
    }
   ],
   "source": [
    "corr_matrix = df.corr()\n",
    "print(corr_matrix)"
   ]
  },
  {
   "cell_type": "markdown",
   "id": "35489867-349a-4edc-89ef-a7699aed6358",
   "metadata": {},
   "source": [
    "## Visualisations"
   ]
  },
  {
   "cell_type": "markdown",
   "id": "3f887950-f0bf-43f6-abf6-3bc671152816",
   "metadata": {},
   "source": [
    "### Gender Count"
   ]
  },
  {
   "cell_type": "code",
   "execution_count": 23,
   "id": "b6a42643-76f3-46a5-9306-4d7a33603ee4",
   "metadata": {},
   "outputs": [
    {
     "data": {
      "image/png": "[encoded data removed]",
      "text/plain": [
       "<Figure size 640x480 with 1 Axes>"
      ]
     },
     "metadata": {},
     "output_type": "display_data"
    }
   ],
   "source": [
    "sbn.countplot(x='Gender', data=df)\n",
    "plt.pyplot.show()"
   ]
  },
  {
   "cell_type": "markdown",
   "id": "999a764d-82d9-4a31-bf66-5d536a71ec3b",
   "metadata": {},
   "source": [
    "### Scatterplot: Number of Followers / Number of Followings"
   ]
  },
  {
   "cell_type": "code",
   "execution_count": 24,
   "id": "6a6c33d8-6c43-4f0b-89b1-8695d3ccfa01",
   "metadata": {},
   "outputs": [
    {
     "data": {
      "image/png": "[encoded data removed]",
      "text/plain": [
       "<Figure size 640x480 with 1 Axes>"
      ]
     },
     "metadata": {},
     "output_type": "display_data"
    }
   ],
   "source": [
    "sbn.scatterplot(x='Number of Followers', y='Number of Followings', data=df)\n",
    "plt.pyplot.show()"
   ]
  },
  {
   "cell_type": "markdown",
   "id": "65a07c76-64c3-4402-98c3-287c2add8d12",
   "metadata": {},
   "source": [
    "### Scatterplot: Number of Followers / Number of Likes for the Tenth Previous Post"
   ]
  },
  {
   "cell_type": "code",
   "execution_count": 25,
   "id": "c52438da-6280-459f-a1a3-162d18d59702",
   "metadata": {},
   "outputs": [
    {
     "data": {
      "image/png": "[encoded data removed]",
      "text/plain": [
       "<Figure size 640x480 with 1 Axes>"
      ]
     },
     "metadata": {},
     "output_type": "display_data"
    }
   ],
   "source": [
    "sbn.scatterplot(x='Number of Followers', y='Number of Likes for the Tenth Previous Post', data=df)\n",
    "plt.pyplot.show()"
   ]
  },
  {
   "cell_type": "markdown",
   "id": "81b9f1be-ae0e-4dfe-a5ff-9b7266183580",
   "metadata": {},
   "source": [
    "### Boxplot"
   ]
  },
  {
   "cell_type": "code",
   "execution_count": 26,
   "id": "e3173974-7420-4270-a646-556f54e632ef",
   "metadata": {},
   "outputs": [
    {
     "data": {
      "image/png": "[encoded data removed]",
      "text/plain": [
       "<Figure size 640x480 with 1 Axes>"
      ]
     },
     "metadata": {},
     "output_type": "display_data"
    }
   ],
   "source": [
    "sbn.boxplot(x='Gender', y='Number of Posts', data=df)\n",
    "plt.pyplot.show()"
   ]
  },
  {
   "cell_type": "markdown",
   "id": "d199f59f-db27-4fef-8beb-d583daf5e650",
   "metadata": {},
   "source": [
    "### Correlation Matrix Heatmap"
   ]
  },
  {
   "cell_type": "code",
   "execution_count": 27,
   "id": "a383fc48-e1fa-4c49-8478-8e4568497b62",
   "metadata": {},
   "outputs": [
    {
     "data": {
      "image/png": "[encoded data removed]",
      "text/plain": [
       "<Figure size 640x480 with 2 Axes>"
      ]
     },
     "metadata": {},
     "output_type": "display_data"
    }
   ],
   "source": [
    "# Create a heatmap of the correlation matrix\n",
    "sbn.heatmap(corr_matrix, cmap='coolwarm')\n",
    "\n",
    "plt.pyplot.show()"
   ]
  },
  {
   "cell_type": "markdown",
   "id": "f9fe9d93-5d96-4d1d-8bb1-b91c7f9250c3",
   "metadata": {},
   "source": [
    "## Conclusions"
   ]
  },
  {
   "cell_type": "markdown",
   "id": "f03b3b1f-2208-43c9-b44f-e9d0c8cd19b4",
   "metadata": {},
   "source": [
    "<p>\n",
    "In conclusion, the analysis provides a comprehensive overview of a dataset on dynamics of instagram users, including measures of central tendency and dispersion, correlations between variables, and visualizations to help understand the data. Through this analysis, we can conclude the following in terms of the dynamics of users on Instagram: \n",
    "</p>"
   ]
  },
  {
   "cell_type": "markdown",
   "id": "e382a1f7-859f-415f-bbab-8ac60f526a97",
   "metadata": {},
   "source": [
    "<ul>\n",
    "    <li>\n",
    "    There is a moderate positive correlation (0.392) between the number of followers and followings on Instagram. This suggests that users who have a large number of followers tend to follow a relatively large number of other users, and vice versa.\n",
    "    </li>\n",
    "    <li>\n",
    "    There is a weak positive correlation (0.129) between the number of posts and followers on Instagram. This suggests that users who post more frequently may have a slightly larger following, but the relationship is not particularly strong.\n",
    "    </li>\n",
    "    <li>\n",
    "    There is a weak positive correlation (0.065) between the gender of Instagram users and the number of posts they make. This suggests that, on average, female users may post slightly more frequently than male users.\n",
    "    </li>\n",
    "    <li>\n",
    "    There is a very weak positive correlation (0.010) between the gender of Instagram users and the number of followers they have. This suggests that there is little to no difference between the number of followers that male and female users have on average.\n",
    "    </li>\n",
    "</ul>"
   ]
  },
  {
   "cell_type": "markdown",
   "id": "41c9956e-55e8-4ad2-91b2-005eabb17334",
   "metadata": {},
   "source": [
    "<p>\n",
    "In comparing my experience with Python and Excel, I found that there were some key differences in terms of functionality, flexibility, and ease of use.\n",
    "</p>"
   ]
  },
  {
   "cell_type": "markdown",
   "id": "7db6c672-7c7c-4a46-847a-4a30a41bf658",
   "metadata": {},
   "source": [
    "<p>\n",
    "One of the main differences between Python and Excel is that Python offers greater flexibility and customization options. With Python, I was able to create custom functions, manipulate and clean data using a range of libraries, and perform more complex statistical analyses. Excel, on the other hand, is more user-friendly and better suited for creating simple visualizations and conducting basic analyses.\n",
    "</p>"
   ]
  },
  {
   "cell_type": "markdown",
   "id": "2b020b12-8600-4776-837c-27a5d672a89f",
   "metadata": {},
   "source": [
    "<p>\n",
    "In terms of when to use either of them, I think it depends on the specific task at hand. For quick data manipulation and basic analyses, Excel can be a good option. For more complex analyses, machine learning, and custom visualizations, Python would be a better choice.\n",
    "</p>"
   ]
  },
  {
   "cell_type": "markdown",
   "id": "4a981f16-3ef1-47fc-bf55-3daa47271609",
   "metadata": {},
   "source": [
    "<p>\n",
    "If I could do this assignment over, I would spend more time reviewing and practicing data visualization techniques. While I was able to create basic visualizations using Python, I still feel like there is a lot more to learn in terms of creating effective and impactful visualizations. Additionally, I would work on improving my understanding of statistical concepts to better understand how to visualise meaningful data.\n",
    "</p>"
   ]
  },
  {
   "cell_type": "markdown",
   "id": "437eb00a-c4bc-4c9c-9bd6-1e76a37bd071",
   "metadata": {},
   "source": [
    "<p>\n",
    "Overall, I think the biggest gaps in my programming and stats knowledge are related to more advanced statistical concepts and techniques. While I am comfortable with basic statistical analyses, I feel like there is a lot more to learn in terms of machine learning, time-series analysis, and other more advanced statistical techniques. Additionally, I would like to continue improving my programming skills, particularly in Python, to be able to create more complex and efficient scripts.\n",
    "</p>"
   ]
  },
  {
   "cell_type": "code",
   "execution_count": null,
   "id": "8a4e0e3a-5dde-4b28-a0ec-3fd83a117f2b",
   "metadata": {},
   "outputs": [],
   "source": []
  }
 ],
 "metadata": {
  "kernelspec": {
   "display_name": "Python 3 (ipykernel)",
   "language": "python",
   "name": "python3"
  },
  "language_info": {
   "codemirror_mode": {
    "name": "ipython",
    "version": 3
   },
   "file_extension": ".py",
   "mimetype": "text/x-python",
   "name": "python",
   "nbconvert_exporter": "python",
   "pygments_lexer": "ipython3",
   "version": "3.10.9"
  }
 },
 "nbformat": 4,
 "nbformat_minor": 5
}
